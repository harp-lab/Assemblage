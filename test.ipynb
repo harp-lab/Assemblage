{
 "cells": [
  {
   "cell_type": "code",
   "execution_count": 5,
   "metadata": {},
   "outputs": [],
   "source": [
    "cmd = \"Dia2Dump -lines * libssl.lib\"\n",
    "import os\n",
    "import glob\n",
    "import re\n",
    "import logging\n",
    "import subprocess\n",
    "import signal\n",
    "import json\n",
    "import git\n",
    "import yaml\n",
    "import string\n",
    "import boto3\n",
    "import hashlib\n",
    "\n",
    "def cmd_with_output(cmd, timelimit=60, platform='linux', cwd=''):\n",
    "    \"\"\" The cmd execution function \"\"\"\n",
    "    if isinstance(cmd, list):\n",
    "        cmd = \" \".join(cmd)\n",
    "    if not cwd:\n",
    "        with subprocess.Popen(cmd,\n",
    "                            stdout=subprocess.PIPE,\n",
    "                            stderr=subprocess.PIPE,\n",
    "                            close_fds=True,\n",
    "                            shell=True) as process:\n",
    "            try:\n",
    "                out, err = process.communicate(timeout=timelimit)\n",
    "                exit_code = process.wait()\n",
    "                process.kill()\n",
    "                return out, err, exit_code\n",
    "            except subprocess.TimeoutExpired:\n",
    "                if platform == 'linux':\n",
    "                    os.killpg(os.getpgid(process.pid), signal.SIGTERM)\n",
    "                return b\"subprocess.TimeoutExpired\", b\"subprocess.TimeoutExpired\", 1\n",
    "    else:\n",
    "        with subprocess.Popen(cmd,\n",
    "                            stdout=subprocess.PIPE,\n",
    "                            stderr=subprocess.PIPE,\n",
    "                            close_fds=True,\n",
    "                            shell=True,\n",
    "                            cwd=cwd) as process:\n",
    "            try:\n",
    "                out, err = process.communicate(timeout=timelimit)\n",
    "                exit_code = process.wait()\n",
    "                process.kill()\n",
    "                return out, err, exit_code\n",
    "            except subprocess.TimeoutExpired:\n",
    "                if platform == 'linux':\n",
    "                    os.killpg(os.getpgid(process.pid), signal.SIGTERM)\n",
    "                return b\"subprocess.TimeoutExpired\", b\"subprocess.TimeoutExpired\", 1"
   ]
  },
  {
   "cell_type": "code",
   "execution_count": 6,
   "metadata": {},
   "outputs": [
    {
     "data": {
      "text/plain": [
       "(b'loadDataForExe failed - HRESULT = 806D0012\\r\\n', b'', 4294967295)"
      ]
     },
     "execution_count": 6,
     "metadata": {},
     "output_type": "execute_result"
    }
   ],
   "source": [
    "cmd_with_output(cmd, cwd='Builds/openssl-windows_O1_release/e5ea1a346be33f8e/openssl_x86-o1-windows/lib')"
   ]
  },
  {
   "cell_type": "code",
   "execution_count": null,
   "metadata": {},
   "outputs": [],
   "source": []
  }
 ],
 "metadata": {
  "kernelspec": {
   "display_name": "Python 3",
   "language": "python",
   "name": "python3"
  },
  "language_info": {
   "codemirror_mode": {
    "name": "ipython",
    "version": 3
   },
   "file_extension": ".py",
   "mimetype": "text/x-python",
   "name": "python",
   "nbconvert_exporter": "python",
   "pygments_lexer": "ipython3",
   "version": "3.10.8"
  }
 },
 "nbformat": 4,
 "nbformat_minor": 2
}
